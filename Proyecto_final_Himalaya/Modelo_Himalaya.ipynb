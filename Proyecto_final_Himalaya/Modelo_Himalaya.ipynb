{
 "cells": [
  {
   "cell_type": "code",
   "execution_count": 5,
   "metadata": {},
   "outputs": [
    {
     "data": {
      "application/vnd.jupyter.widget-view+json": {
       "model_id": "cf4fbbe66f53493db5cc7b6ad993faef",
       "version_major": 2,
       "version_minor": 0
      },
      "text/plain": [
       "VBox(children=(Dropdown(description='Peak Name:', options=('Everest', 'Annapurna II', 'Makalu', 'Ama Dablam', …"
      ]
     },
     "metadata": {},
     "output_type": "display_data"
    },
    {
     "data": {
      "application/vnd.jupyter.widget-view+json": {
       "model_id": "408f90966071465e9196b9581594b88e",
       "version_major": 2,
       "version_minor": 0
      },
      "text/plain": [
       "Button(description='Predict', style=ButtonStyle())"
      ]
     },
     "metadata": {},
     "output_type": "display_data"
    },
    {
     "data": {
      "application/vnd.jupyter.widget-view+json": {
       "model_id": "f54b742d4eb6410c94c80eec5f53f8e8",
       "version_major": 2,
       "version_minor": 0
      },
      "text/plain": [
       "Output()"
      ]
     },
     "metadata": {},
     "output_type": "display_data"
    },
    {
     "name": "stdout",
     "output_type": "stream",
     "text": [
      "b'[0]'\n",
      "b'[0]'\n",
      "b'[0]'\n",
      "b'[0]'\n",
      "b'[0]'\n",
      "b'[0]'\n",
      "b'[0]'\n",
      "b'[0]'\n",
      "b'[0]'\n",
      "b'[0]'\n",
      "b'[0]'\n",
      "b'[0]'\n",
      "b'[0]'\n"
     ]
    }
   ],
   "source": [
    "import urllib.request\n",
    "import json\n",
    "import os\n",
    "import ssl\n",
    "import ipywidgets as widgets\n",
    "from IPython.display import display\n",
    "\n",
    "\n",
    "def allowSelfSignedHttps(allowed):\n",
    "    # bypass the server certificate verification on client side\n",
    "    if allowed and not os.environ.get('PYTHONHTTPSVERIFY', '') and getattr(ssl, '_create_unverified_context', None):\n",
    "        ssl._create_default_https_context = ssl._create_unverified_context\n",
    "\n",
    "allowSelfSignedHttps(True)  # this line is needed if you use self-signed certificate in your scoring service.\n",
    "\n",
    "# Widgets para la entrada de datos\n",
    "column2_widget = widgets.IntText(description='Numero:')\n",
    "peak_widget = widgets.Dropdown(options=['Everest', 'Annapurna II', 'Makalu', 'Ama Dablam', 'Cho Oyu', 'Manaslu', 'Lhotse', 'Kangchenjunga', 'Yalung Kang', 'Dhaulagiri I', 'Annapurna I Middle'],\n",
    "                               description='Peak Name:')\n",
    "year_widget = widgets.IntText(description='Year:')\n",
    "season_widget = widgets.Dropdown(\n",
    "    options=['Spring', 'Autumn', 'Summer', 'Winter'], description='Season:')\n",
    "members_widget = widgets.IntText(description='Members:')\n",
    "oxygen_widget = widgets.Dropdown(options=['Yes', 'No'], description='Oxygen Used:')\n",
    "\n",
    "\n",
    "input_widgets = widgets.VBox([\n",
    "    # column2_widget,\n",
    "    peak_widget,\n",
    "    year_widget,\n",
    "    season_widget,\n",
    "    members_widget,\n",
    "    oxygen_widget\n",
    "\n",
    "])\n",
    "\n",
    "display(input_widgets)\n",
    "\n",
    "\n",
    "def get_user_input():\n",
    "    return {\n",
    "        'Column2': column2_widget.value,\n",
    "        'peak_name': peak_widget.value,\n",
    "        'year': year_widget.value,\n",
    "        'season': season_widget.value,\n",
    "        'members': members_widget.value,\n",
    "        'oxygen_used': oxygen_widget.value\n",
    "    }\n",
    "\n",
    "\n",
    "predict_button = widgets.Button(description='Predict')\n",
    "output = widgets.Output()\n",
    "\n",
    "\n",
    "def on_predict_button_clicked(b):\n",
    "    input_data = get_user_input()\n",
    "\n",
    "    # Map season to numerical index based on the options list\n",
    "    season_mapping = {\n",
    "        'Spring': 0,\n",
    "        'Autumn': 1,\n",
    "        'Summer': 2,\n",
    "        'Winter': 3\n",
    "    }\n",
    "\n",
    "    # Estructuramos los datos en el formato esperado por el modelo\n",
    "    data = {\n",
    "        \"input_data\": {\n",
    "            \"columns\": [\n",
    "                'Column2',\n",
    "                \"year\",\n",
    "                \"members\",\n",
    "                \"oxygen_used\",\n",
    "                \"season\",\n",
    "                'peak_name'\n",
    "            ],\n",
    "            \"index\": [0],\n",
    "            \"data\": [\n",
    "                [\n",
    "                    input_data['peak_name'],\n",
    "                    int(input_data['year']),\n",
    "                    int(input_data['members']),\n",
    "                    int(1 if input_data['oxygen_used'] == 'Yes' else 0),\n",
    "                    season_mapping[input_data['season']],\n",
    "                    int(input_data['Column2'])\n",
    "                ]\n",
    "            ]\n",
    "        }\n",
    "    }\n",
    "\n",
    "    body = str.encode(json.dumps(data))\n",
    "\n",
    "    url = 'https://himalaya-expeditions-dmzqx.eastus2.inference.ml.azure.com/score'\n",
    "    # Replace this with the primary/secondary key, AMLToken, or Microsoft Entra ID token for the endpoint\n",
    "    api_key = '6LQtcS5VCfQkTPnzvYvfGGTuMUH5hTzE'\n",
    "    if not api_key:\n",
    "        raise Exception(\"A key should be provided to invoke the endpoint\")\n",
    "\n",
    "    # The azureml-model-deployment header will force the request to go to a specific deployment.\n",
    "    # Remove this header to have the request observe the endpoint traffic rules\n",
    "    headers = {'Content-Type': 'application/json',\n",
    "               'Authorization': ('Bearer '+api_key), 'azureml-model-deployment': 'expeditions83-1'}\n",
    "\n",
    "    req = urllib.request.Request(url, body, headers)\n",
    "\n",
    "    try:\n",
    "        response = urllib.request.urlopen(req)\n",
    "\n",
    "        result = response.read()\n",
    "        print(result)\n",
    "    except urllib.error.HTTPError as error:\n",
    "        print(\"The request failed with status code: \" + str(error.code))\n",
    "\n",
    "        # Print the headers - they include the request ID and the timestamp, which are useful for debugging the failure\n",
    "        print(error.info())\n",
    "        print(error.read().decode(\"utf8\", 'ignore'))\n",
    "\n",
    "\n",
    "predict_button.on_click(on_predict_button_clicked)\n",
    "display(predict_button, output)\n"
   ]
  }
 ],
 "metadata": {
  "kernelspec": {
   "display_name": "mi_entorno",
   "language": "python",
   "name": "python3"
  },
  "language_info": {
   "codemirror_mode": {
    "name": "ipython",
    "version": 3
   },
   "file_extension": ".py",
   "mimetype": "text/x-python",
   "name": "python",
   "nbconvert_exporter": "python",
   "pygments_lexer": "ipython3",
   "version": "3.11.9"
  }
 },
 "nbformat": 4,
 "nbformat_minor": 2
}
